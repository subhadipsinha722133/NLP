{
 "cells": [
  {
   "cell_type": "markdown",
   "id": "c1172f7e",
   "metadata": {},
   "source": [
    "<h1>word embedding</h1>\n",
    "\n",
    "In natural language processing, word embedding is a term used for the\n",
    "representation of words for text analysis, typically in the form of a real-valued\n",
    "vector that encodes the meaning of the word such that the words that are closer\n",
    "in the vector space are expected to be similar in meaning."
   ]
  },
  {
   "cell_type": "markdown",
   "id": "c3bfd674",
   "metadata": {},
   "source": [
    "<h1>Word2vec :-</h1>\n",
    "\n",
    "Word2Vec is a popular technique in natural language processing (NLP) used to generate vector representations of words (word embeddings). These embeddings capture semantic and syntactic relationships between words, allowing machine learning models to understand word meaning and context. Essentially, Word2Vec transforms words into numerical vectors, where similar words are positioned close to each other in the vector space. "
   ]
  },
  {
   "cell_type": "markdown",
   "id": "0f73278d",
   "metadata": {},
   "source": [
    "advantage :- \n",
    "\n",
    "<br>\n",
    "low dimetion vector,\n",
    "semicktrik mening ,\n",
    "overfitting low"
   ]
  },
  {
   "cell_type": "markdown",
   "id": "5a432161",
   "metadata": {},
   "source": []
  },
  {
   "cell_type": "code",
   "execution_count": null,
   "id": "a6c58908",
   "metadata": {
    "vscode": {
     "languageId": "plaintext"
    }
   },
   "outputs": [],
   "source": []
  }
 ],
 "metadata": {
  "language_info": {
   "name": "python"
  }
 },
 "nbformat": 4,
 "nbformat_minor": 5
}
