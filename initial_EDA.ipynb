{
 "cells": [
  {
   "cell_type": "code",
   "execution_count": 2,
   "id": "600ccbe8",
   "metadata": {},
   "outputs": [],
   "source": [
    "import numpy as np\n",
    "import pandas as pd\n",
    "import seaborn as sns\n",
    "import matplotlib.pyplot as plt"
   ]
  },
  {
   "cell_type": "code",
   "execution_count": 3,
   "id": "60425156",
   "metadata": {},
   "outputs": [
    {
     "data": {
      "text/plain": [
       "(404290, 6)"
      ]
     },
     "execution_count": 3,
     "metadata": {},
     "output_type": "execute_result"
    }
   ],
   "source": [
    "df = pd.read_csv(r\"D:\\CODING\\PYTHON\\NLP\\train.csv\")\n",
    "df.shape"
   ]
  },
  {
   "cell_type": "code",
   "execution_count": 4,
   "id": "5a3d86b9",
   "metadata": {},
   "outputs": [
    {
     "data": {
      "text/html": [
       "<div>\n",
       "<style scoped>\n",
       "    .dataframe tbody tr th:only-of-type {\n",
       "        vertical-align: middle;\n",
       "    }\n",
       "\n",
       "    .dataframe tbody tr th {\n",
       "        vertical-align: top;\n",
       "    }\n",
       "\n",
       "    .dataframe thead th {\n",
       "        text-align: right;\n",
       "    }\n",
       "</style>\n",
       "<table border=\"1\" class=\"dataframe\">\n",
       "  <thead>\n",
       "    <tr style=\"text-align: right;\">\n",
       "      <th></th>\n",
       "      <th>id</th>\n",
       "      <th>qid1</th>\n",
       "      <th>qid2</th>\n",
       "      <th>question1</th>\n",
       "      <th>question2</th>\n",
       "      <th>is_duplicate</th>\n",
       "    </tr>\n",
       "  </thead>\n",
       "  <tbody>\n",
       "    <tr>\n",
       "      <th>39383</th>\n",
       "      <td>39383</td>\n",
       "      <td>71396</td>\n",
       "      <td>71397</td>\n",
       "      <td>I have a Canon EOS 600D and want to buy my fir...</td>\n",
       "      <td>I have a Canon 600D and want to take close up ...</td>\n",
       "      <td>1</td>\n",
       "    </tr>\n",
       "    <tr>\n",
       "      <th>236548</th>\n",
       "      <td>236548</td>\n",
       "      <td>347500</td>\n",
       "      <td>347501</td>\n",
       "      <td>I know some bases of C++ (console application ...</td>\n",
       "      <td>What are some C++ GUI based project ideas?</td>\n",
       "      <td>0</td>\n",
       "    </tr>\n",
       "    <tr>\n",
       "      <th>298288</th>\n",
       "      <td>298288</td>\n",
       "      <td>186853</td>\n",
       "      <td>420762</td>\n",
       "      <td>How can I see Mars and the Moon from the Googl...</td>\n",
       "      <td>They say that today's cell phones have more co...</td>\n",
       "      <td>0</td>\n",
       "    </tr>\n",
       "    <tr>\n",
       "      <th>198136</th>\n",
       "      <td>198136</td>\n",
       "      <td>299268</td>\n",
       "      <td>299269</td>\n",
       "      <td>Are you interested Migration to Canada or Aust...</td>\n",
       "      <td>Are you Interested in emigration to Canada or ...</td>\n",
       "      <td>1</td>\n",
       "    </tr>\n",
       "    <tr>\n",
       "      <th>314142</th>\n",
       "      <td>314142</td>\n",
       "      <td>438840</td>\n",
       "      <td>438841</td>\n",
       "      <td>How do I become a top programmer?</td>\n",
       "      <td>How can I be an upper programmer?</td>\n",
       "      <td>1</td>\n",
       "    </tr>\n",
       "    <tr>\n",
       "      <th>40057</th>\n",
       "      <td>40057</td>\n",
       "      <td>13398</td>\n",
       "      <td>72535</td>\n",
       "      <td>Do women like anal sex?</td>\n",
       "      <td>Can all women have anal sex?</td>\n",
       "      <td>0</td>\n",
       "    </tr>\n",
       "    <tr>\n",
       "      <th>120424</th>\n",
       "      <td>120424</td>\n",
       "      <td>178538</td>\n",
       "      <td>195322</td>\n",
       "      <td>Which phones are better: Oppo or Vivo?</td>\n",
       "      <td>Do you have any views about Vivo smart phones?</td>\n",
       "      <td>0</td>\n",
       "    </tr>\n",
       "    <tr>\n",
       "      <th>194698</th>\n",
       "      <td>194698</td>\n",
       "      <td>233881</td>\n",
       "      <td>273838</td>\n",
       "      <td>Is climate change stoppable?</td>\n",
       "      <td>Is climate change real?</td>\n",
       "      <td>0</td>\n",
       "    </tr>\n",
       "    <tr>\n",
       "      <th>249330</th>\n",
       "      <td>249330</td>\n",
       "      <td>362942</td>\n",
       "      <td>277662</td>\n",
       "      <td>My husband was only person charged when police...</td>\n",
       "      <td>My husband is charged with drug charges. The d...</td>\n",
       "      <td>1</td>\n",
       "    </tr>\n",
       "    <tr>\n",
       "      <th>370701</th>\n",
       "      <td>370701</td>\n",
       "      <td>501277</td>\n",
       "      <td>501278</td>\n",
       "      <td>I like to listen to Eminem when I am doing mat...</td>\n",
       "      <td>Why do bad ideas seem good when I'm emotional?</td>\n",
       "      <td>0</td>\n",
       "    </tr>\n",
       "  </tbody>\n",
       "</table>\n",
       "</div>"
      ],
      "text/plain": [
       "            id    qid1    qid2  \\\n",
       "39383    39383   71396   71397   \n",
       "236548  236548  347500  347501   \n",
       "298288  298288  186853  420762   \n",
       "198136  198136  299268  299269   \n",
       "314142  314142  438840  438841   \n",
       "40057    40057   13398   72535   \n",
       "120424  120424  178538  195322   \n",
       "194698  194698  233881  273838   \n",
       "249330  249330  362942  277662   \n",
       "370701  370701  501277  501278   \n",
       "\n",
       "                                                question1  \\\n",
       "39383   I have a Canon EOS 600D and want to buy my fir...   \n",
       "236548  I know some bases of C++ (console application ...   \n",
       "298288  How can I see Mars and the Moon from the Googl...   \n",
       "198136  Are you interested Migration to Canada or Aust...   \n",
       "314142                  How do I become a top programmer?   \n",
       "40057                             Do women like anal sex?   \n",
       "120424             Which phones are better: Oppo or Vivo?   \n",
       "194698                       Is climate change stoppable?   \n",
       "249330  My husband was only person charged when police...   \n",
       "370701  I like to listen to Eminem when I am doing mat...   \n",
       "\n",
       "                                                question2  is_duplicate  \n",
       "39383   I have a Canon 600D and want to take close up ...             1  \n",
       "236548         What are some C++ GUI based project ideas?             0  \n",
       "298288  They say that today's cell phones have more co...             0  \n",
       "198136  Are you Interested in emigration to Canada or ...             1  \n",
       "314142                  How can I be an upper programmer?             1  \n",
       "40057                        Can all women have anal sex?             0  \n",
       "120424     Do you have any views about Vivo smart phones?             0  \n",
       "194698                            Is climate change real?             0  \n",
       "249330  My husband is charged with drug charges. The d...             1  \n",
       "370701     Why do bad ideas seem good when I'm emotional?             0  "
      ]
     },
     "execution_count": 4,
     "metadata": {},
     "output_type": "execute_result"
    }
   ],
   "source": [
    "df.sample(10)"
   ]
  },
  {
   "cell_type": "code",
   "execution_count": 5,
   "id": "37b00141",
   "metadata": {},
   "outputs": [
    {
     "name": "stdout",
     "output_type": "stream",
     "text": [
      "<class 'pandas.core.frame.DataFrame'>\n",
      "RangeIndex: 404290 entries, 0 to 404289\n",
      "Data columns (total 6 columns):\n",
      " #   Column        Non-Null Count   Dtype \n",
      "---  ------        --------------   ----- \n",
      " 0   id            404290 non-null  int64 \n",
      " 1   qid1          404290 non-null  int64 \n",
      " 2   qid2          404290 non-null  int64 \n",
      " 3   question1     404289 non-null  object\n",
      " 4   question2     404288 non-null  object\n",
      " 5   is_duplicate  404290 non-null  int64 \n",
      "dtypes: int64(4), object(2)\n",
      "memory usage: 18.5+ MB\n"
     ]
    }
   ],
   "source": [
    "df.info()"
   ]
  },
  {
   "cell_type": "code",
   "execution_count": 6,
   "id": "c5b82789",
   "metadata": {},
   "outputs": [
    {
     "data": {
      "text/plain": [
       "id              0\n",
       "qid1            0\n",
       "qid2            0\n",
       "question1       1\n",
       "question2       2\n",
       "is_duplicate    0\n",
       "dtype: int64"
      ]
     },
     "execution_count": 6,
     "metadata": {},
     "output_type": "execute_result"
    }
   ],
   "source": [
    "# missing values\n",
    "df.isnull().sum()"
   ]
  },
  {
   "cell_type": "code",
   "execution_count": 7,
   "id": "e704abaf",
   "metadata": {},
   "outputs": [
    {
     "data": {
      "text/plain": [
       "0"
      ]
     },
     "execution_count": 7,
     "metadata": {},
     "output_type": "execute_result"
    }
   ],
   "source": [
    "# duplicate rows\n",
    "df.duplicated().sum()"
   ]
  },
  {
   "cell_type": "code",
   "execution_count": 8,
   "id": "3f9bd6af",
   "metadata": {},
   "outputs": [
    {
     "name": "stdout",
     "output_type": "stream",
     "text": [
      "is_duplicate\n",
      "0    255027\n",
      "1    149263\n",
      "Name: count, dtype: int64\n",
      "is_duplicate\n",
      "0    63.080215\n",
      "1    36.919785\n",
      "Name: count, dtype: float64\n"
     ]
    },
    {
     "data": {
      "text/plain": [
       "<Axes: xlabel='is_duplicate'>"
      ]
     },
     "execution_count": 8,
     "metadata": {},
     "output_type": "execute_result"
    },
    {
     "data": {
      "image/png": "[encoded data removed]",
      "text/plain": [
       "<Figure size 640x480 with 1 Axes>"
      ]
     },
     "metadata": {},
     "output_type": "display_data"
    }
   ],
   "source": [
    "# Distribution of duplicate and non-duplicate questions\n",
    "\n",
    "print(df['is_duplicate'].value_counts())\n",
    "print((df['is_duplicate'].value_counts()/df['is_duplicate'].count())*100)\n",
    "df['is_duplicate'].value_counts().plot(kind='bar')"
   ]
  },
  {
   "cell_type": "code",
   "execution_count": 9,
   "id": "788d2d08",
   "metadata": {},
   "outputs": [
    {
     "name": "stdout",
     "output_type": "stream",
     "text": [
      "Number of unique questions 537933\n",
      "Number of questions getting repeated 111780\n"
     ]
    }
   ],
   "source": [
    "# Repeated questions\n",
    "\n",
    "qid = pd.Series(df['qid1'].tolist() + df['qid2'].tolist())\n",
    "print('Number of unique questions',np.unique(qid).shape[0])\n",
    "x = qid.value_counts()>1\n",
    "print('Number of questions getting repeated',x[x].shape[0])"
   ]
  },
  {
   "cell_type": "code",
   "execution_count": 10,
   "id": "2fa5bb83",
   "metadata": {},
   "outputs": [
    {
     "data": {
      "image/png": "[encoded data removed]",
      "text/plain": [
       "<Figure size 640x480 with 1 Axes>"
      ]
     },
     "metadata": {},
     "output_type": "display_data"
    }
   ],
   "source": [
    "# Repeated questions histogram\n",
    "\n",
    "plt.hist(qid.value_counts().values,bins=160)\n",
    "plt.yscale('log')\n",
    "plt.show()"
   ]
  },
  {
   "cell_type": "code",
   "execution_count": null,
   "id": "f9573e2f",
   "metadata": {},
   "outputs": [],
   "source": []
  }
 ],
 "metadata": {
  "kernelspec": {
   "display_name": "PYTHON---3.11",
   "language": "python",
   "name": "python3"
  },
  "language_info": {
   "codemirror_mode": {
    "name": "ipython",
    "version": 3
   },
   "file_extension": ".py",
   "mimetype": "text/x-python",
   "name": "python",
   "nbconvert_exporter": "python",
   "pygments_lexer": "ipython3",
   "version": "3.11.9"
  }
 },
 "nbformat": 4,
 "nbformat_minor": 5
}
